{
 "cells": [
  {
   "cell_type": "markdown",
   "metadata": {},
   "source": [
    "## Carga de datos"
   ]
  },
  {
   "cell_type": "markdown",
   "metadata": {},
   "source": [
    "##HHOola como te va??"
   ]
  },
  {
   "cell_type": "code",
   "execution_count": 1,
   "metadata": {},
   "outputs": [],
   "source": [
    "import pandas as pd\n",
    "import matplotlib.pyplot as plot"
   ]
  },
  {
   "cell_type": "code",
   "execution_count": 2,
   "metadata": {},
   "outputs": [
    {
     "name": "stderr",
     "output_type": "stream",
     "text": [
      "C:\\Users\\luluf\\AppData\\Local\\Temp\\ipykernel_15992\\3668038309.py:4: DtypeWarning: Columns (36) have mixed types. Specify dtype option on import or set low_memory=False.\n",
      "  df_D = pd.read_csv(r\"Datos\\d. Modulo_D_E.csv\", encoding='ISO-8859-1', sep=\";\")\n"
     ]
    }
   ],
   "source": [
    "df_A = pd.read_csv(r\"Datos\\a. Modulo_A-C-X-CF.csv\", encoding='ISO-8859-1', sep=\";\")\n",
    "df_B = pd.read_csv(r\"Datos\\b. Modulo_B.csv\", encoding='ISO-8859-1', sep=\";\")\n",
    "df_C = pd.read_csv(r\"Datos\\c. Modulo_C1.csv\", encoding='ISO-8859-1', sep=\";\")\n",
    "df_D = pd.read_csv(r\"Datos\\d. Modulo_D_E.csv\", encoding='ISO-8859-1', sep=\";\")\n",
    "df_E = pd.read_csv(r\"Datos\\e. Modulo_viajes.csv\", encoding='ISO-8859-1', sep=\";\")\n",
    "df_F = pd.read_csv(r\"Datos\\f. Modulo_Etapas.csv\", encoding='ISO-8859-1', sep=\";\")\n"
   ]
  },
  {
   "cell_type": "code",
   "execution_count": 3,
   "metadata": {},
   "outputs": [
    {
     "name": "stdout",
     "output_type": "stream",
     "text": [
      "Variable   Type         Data/Info\n",
      "---------------------------------\n",
      "df_A       DataFrame             i3  val_i3     u<...>[22755 rows x 66 columns]\n",
      "df_B       DataFrame           OrderX  b4  b5  b6<...>[67556 rows x 26 columns]\n",
      "df_C       DataFrame           c2 c3           Na<...>[11838 rows x 16 columns]\n",
      "df_D       DataFrame           d2  Age  val_b22.2<...>[67556 rows x 40 columns]\n",
      "df_E       DataFrame            OrderJourney  d11<...>100174 rows x 25 columns]\n",
      "df_F       DataFrame            StageX  d13 d13_o<...>110881 rows x 23 columns]\n",
      "pd         module       <module 'pandas' from 'C:<...>es\\\\pandas\\\\__init__.py'>\n",
      "plot       module       <module 'matplotlib.pyplo<...>\\\\matplotlib\\\\pyplot.py'>\n"
     ]
    }
   ],
   "source": [
    "# Para revisar los elementos cargados. \n",
    "%whos"
   ]
  },
  {
   "cell_type": "markdown",
   "metadata": {},
   "source": [
    "## Limpiar datos"
   ]
  },
  {
   "cell_type": "markdown",
   "metadata": {},
   "source": [
    "**Se tienen como municipios o areas de interes a:**\n",
    "* Bogota : 11001\n",
    "* Chia : 25175\n",
    "* Cota :  25214\n",
    "* Funza : 25286\n",
    "* Mozquera : 25473\n",
    "* Soacha : 25745\n",
    "* Sopo :  25754\n",
    "* La Calera : 25377\n"
   ]
  },
  {
   "cell_type": "markdown",
   "metadata": {},
   "source": [
    "**Se plantearon como variables de interes:**\n",
    "\n",
    "* UTAM  - Unidades Territoriales de Análisis de Movilidad\n",
    "* ZAT - Zonas de análisis de transporte \n",
    "* Departamento, Barrio/Vereda\n",
    "* Tipo de vivienda: Casa, Apartamento, inquilinato, Vivienda indígena,Otro tipo de vivienda\n",
    "* Número de hogares en la vivienda\n",
    "* Número total de personas que viven en el hogar\n",
    "* Total de vehículos con placa\n",
    "* Rango de ingresos\n"
   ]
  },
  {
   "cell_type": "markdown",
   "metadata": {},
   "source": [
    "### Capitulo A"
   ]
  },
  {
   "cell_type": "code",
   "execution_count": 4,
   "metadata": {},
   "outputs": [
    {
     "name": "stdout",
     "output_type": "stream",
     "text": [
      "<class 'pandas.core.frame.DataFrame'>\n",
      "RangeIndex: 22755 entries, 0 to 22754\n",
      "Data columns (total 66 columns):\n",
      " #   Column            Non-Null Count  Dtype  \n",
      "---  ------            --------------  -----  \n",
      " 0   i3                22755 non-null  int64  \n",
      " 1   val_i3            22755 non-null  int64  \n",
      " 2   utam              22755 non-null  object \n",
      " 3   zat               22755 non-null  int64  \n",
      " 4   cod_depto         22755 non-null  int64  \n",
      " 5   cod_mpio          22755 non-null  int64  \n",
      " 6   cod_loc           17506 non-null  float64\n",
      " 7   estrato           17506 non-null  float64\n",
      " 8   upz               17506 non-null  object \n",
      " 9   cod_dane          22755 non-null  object \n",
      " 10  zona              22755 non-null  int64  \n",
      " 11  sector            22755 non-null  int64  \n",
      " 12  seccion           22755 non-null  int64  \n",
      " 13  manzana           22755 non-null  int64  \n",
      " 14  tipo              22755 non-null  object \n",
      " 15  info_base         22755 non-null  object \n",
      " 16  i4                22755 non-null  object \n",
      " 17  i4a               22755 non-null  object \n",
      " 18  cod_i4b           22755 non-null  int64  \n",
      " 19  i4b               22755 non-null  object \n",
      " 20  cod_i4c           17506 non-null  float64\n",
      " 21  i4c               17506 non-null  object \n",
      " 22  i5a               22755 non-null  int64  \n",
      " 23  cod_i7            22755 non-null  int64  \n",
      " 24  i7                22755 non-null  object \n",
      " 25  zat_ref           22755 non-null  int64  \n",
      " 26  i7b               22755 non-null  int64  \n",
      " 27  a6                22755 non-null  int64  \n",
      " 28  a7                22755 non-null  int64  \n",
      " 29  a8                22755 non-null  int64  \n",
      " 30  register_count    22755 non-null  int64  \n",
      " 31  CountPeople       22755 non-null  int64  \n",
      " 32  person_b_count    22755 non-null  int64  \n",
      " 33  CountOlder18      22755 non-null  int64  \n",
      " 34  c1                22755 non-null  object \n",
      " 35  c1_o              69 non-null     object \n",
      " 36  c1a               5784 non-null   float64\n",
      " 37  c1b               851 non-null    float64\n",
      " 38  c1c               68 non-null     float64\n",
      " 39  c1d               61 non-null     float64\n",
      " 40  c1e               3633 non-null   float64\n",
      " 41  c1f               122 non-null    float64\n",
      " 42  c1g               3 non-null      float64\n",
      " 43  c1h               111 non-null    float64\n",
      " 44  c1i               79 non-null     float64\n",
      " 45  c1j               190 non-null    float64\n",
      " 46  c1k               9 non-null      float64\n",
      " 47  c1l               13 non-null     float64\n",
      " 48  c1m               4691 non-null   float64\n",
      " 49  c1n               55 non-null     float64\n",
      " 50  c1o               9 non-null      float64\n",
      " 51  c1p               329 non-null    float64\n",
      " 52  c1q               70 non-null     float64\n",
      " 53  c1r               92 non-null     float64\n",
      " 54  c1s               3 non-null      float64\n",
      " 55  c1t               24 non-null     float64\n",
      " 56  c1u               69 non-null     float64\n",
      " 57  AllAuto           12582 non-null  float64\n",
      " 58  vehicles_count    9346 non-null   float64\n",
      " 59  x1                22755 non-null  int64  \n",
      " 60  x2                22755 non-null  object \n",
      " 61  x2_o              59 non-null     object \n",
      " 62  person_d_e_count  22755 non-null  int64  \n",
      " 63  cf5               22755 non-null  int64  \n",
      " 64  KEY               22755 non-null  object \n",
      " 65  Fexp              22755 non-null  object \n",
      "dtypes: float64(26), int64(24), object(16)\n",
      "memory usage: 11.5+ MB\n",
      "cod_mpio\n",
      "11001    17506\n",
      "25754     1442\n",
      "25473      381\n",
      "25214      290\n",
      "25175      234\n",
      "25286      181\n",
      "25377      139\n",
      "Name: count, dtype: int64\n"
     ]
    }
   ],
   "source": [
    "#Revisar el numero de registros y el tipo de cada columna \n",
    "df_A.info()\n",
    "\n",
    "# Se filtra por municipios \n",
    "id_munis = [11001, 25175, 25214, 25286, 25473, 25745, 25754, 25377]\n",
    "df_A2 = df_A.loc[df_A['cod_mpio'].isin(id_munis)]\n",
    "\n",
    "# Municipios\n",
    "print(df_A2[\"cod_mpio\"].value_counts())"
   ]
  },
  {
   "cell_type": "code",
   "execution_count": null,
   "metadata": {},
   "outputs": [
    {
     "data": {
      "text/plain": [
       "utam\n",
       "UTAM064    391\n",
       "UTAM575    390\n",
       "UTAM053    386\n",
       "UPR0003    312\n",
       "UTAM088    306\n",
       "          ... \n",
       "UTAM101     43\n",
       "UTAM003     36\n",
       "UTAM002     31\n",
       "UPR0004     26\n",
       "UTAM117      2\n",
       "Name: count, Length: 128, dtype: int64"
      ]
     },
     "execution_count": 9,
     "metadata": {},
     "output_type": "execute_result"
    }
   ],
   "source": [
    "# Unidades Territoriales analisis de movilidad\n",
    "print(df_A2[\"utam\"].value_counts())"
   ]
  },
  {
   "cell_type": "code",
   "execution_count": null,
   "metadata": {},
   "outputs": [
    {
     "name": "stdout",
     "output_type": "stream",
     "text": [
      "     zat  zat_ref  cod_mpio     utam\n",
      "299  220      219     11001  UTAM103\n",
      "300  220      219     11001  UTAM103\n",
      "301  220      219     11001  UTAM103\n",
      "302  220      219     11001  UTAM103\n",
      "303  220      219     11001  UTAM103\n",
      "304  220      219     11001  UTAM103\n",
      "305  220      219     11001  UTAM103\n",
      "307  220      219     11001  UTAM103\n",
      "308  220      219     11001  UTAM103\n",
      "309  220      219     11001  UTAM103\n",
      "<bound method DataFrame.info of        zat  zat_ref  cod_mpio     utam\n",
      "299    220      219     11001  UTAM103\n",
      "300    220      219     11001  UTAM103\n",
      "301    220      219     11001  UTAM103\n",
      "302    220      219     11001  UTAM103\n",
      "303    220      219     11001  UTAM103\n",
      "...    ...      ...       ...      ...\n",
      "22729  198      201     11001  UTAM116\n",
      "22730  198      201     11001  UTAM116\n",
      "22731  198      201     11001  UTAM116\n",
      "22732  198      201     11001  UTAM116\n",
      "22733  198      201     11001  UTAM116\n",
      "\n",
      "[497 rows x 4 columns]>\n",
      "0\n",
      "0\n"
     ]
    }
   ],
   "source": [
    "# Zonas de analisis de transporte\n",
    "\n",
    "#Hay dos variables con la informacion de las zat\n",
    "print(df_A2[\"zat\"].equals(df_A2[\"zat_ref\"]))\n",
    "desiguales = df_A2[df_A2['zat'] != df_A2['zat_ref']]\n",
    "p1 = ['zat', 'zat_ref', 'cod_mpio', 'utam']\n",
    "print(desiguales[p1].info)\n"
   ]
  },
  {
   "cell_type": "code",
   "execution_count": null,
   "metadata": {},
   "outputs": [
    {
     "data": {
      "text/html": [
       "<div>\n",
       "<style scoped>\n",
       "    .dataframe tbody tr th:only-of-type {\n",
       "        vertical-align: middle;\n",
       "    }\n",
       "\n",
       "    .dataframe tbody tr th {\n",
       "        vertical-align: top;\n",
       "    }\n",
       "\n",
       "    .dataframe thead th {\n",
       "        text-align: right;\n",
       "    }\n",
       "</style>\n",
       "<table border=\"1\" class=\"dataframe\">\n",
       "  <thead>\n",
       "    <tr style=\"text-align: right;\">\n",
       "      <th></th>\n",
       "      <th>cod_i4c</th>\n",
       "      <th>cod_loc</th>\n",
       "      <th>cod_mpio</th>\n",
       "      <th>utam</th>\n",
       "      <th>zat</th>\n",
       "    </tr>\n",
       "  </thead>\n",
       "  <tbody>\n",
       "    <tr>\n",
       "      <th>13963</th>\n",
       "      <td>5.0</td>\n",
       "      <td>19.0</td>\n",
       "      <td>11001</td>\n",
       "      <td>UPR0003</td>\n",
       "      <td>764</td>\n",
       "    </tr>\n",
       "    <tr>\n",
       "      <th>13964</th>\n",
       "      <td>5.0</td>\n",
       "      <td>19.0</td>\n",
       "      <td>11001</td>\n",
       "      <td>UPR0003</td>\n",
       "      <td>764</td>\n",
       "    </tr>\n",
       "    <tr>\n",
       "      <th>13965</th>\n",
       "      <td>5.0</td>\n",
       "      <td>19.0</td>\n",
       "      <td>11001</td>\n",
       "      <td>UPR0003</td>\n",
       "      <td>764</td>\n",
       "    </tr>\n",
       "    <tr>\n",
       "      <th>13966</th>\n",
       "      <td>5.0</td>\n",
       "      <td>19.0</td>\n",
       "      <td>11001</td>\n",
       "      <td>UPR0003</td>\n",
       "      <td>764</td>\n",
       "    </tr>\n",
       "    <tr>\n",
       "      <th>13967</th>\n",
       "      <td>5.0</td>\n",
       "      <td>19.0</td>\n",
       "      <td>11001</td>\n",
       "      <td>UPR0003</td>\n",
       "      <td>764</td>\n",
       "    </tr>\n",
       "    <tr>\n",
       "      <th>13968</th>\n",
       "      <td>5.0</td>\n",
       "      <td>19.0</td>\n",
       "      <td>11001</td>\n",
       "      <td>UPR0003</td>\n",
       "      <td>764</td>\n",
       "    </tr>\n",
       "    <tr>\n",
       "      <th>13969</th>\n",
       "      <td>5.0</td>\n",
       "      <td>19.0</td>\n",
       "      <td>11001</td>\n",
       "      <td>UPR0003</td>\n",
       "      <td>764</td>\n",
       "    </tr>\n",
       "    <tr>\n",
       "      <th>13970</th>\n",
       "      <td>5.0</td>\n",
       "      <td>19.0</td>\n",
       "      <td>11001</td>\n",
       "      <td>UPR0003</td>\n",
       "      <td>764</td>\n",
       "    </tr>\n",
       "    <tr>\n",
       "      <th>13971</th>\n",
       "      <td>5.0</td>\n",
       "      <td>19.0</td>\n",
       "      <td>11001</td>\n",
       "      <td>UPR0003</td>\n",
       "      <td>764</td>\n",
       "    </tr>\n",
       "    <tr>\n",
       "      <th>16226</th>\n",
       "      <td>NaN</td>\n",
       "      <td>NaN</td>\n",
       "      <td>25175</td>\n",
       "      <td>UTAM590</td>\n",
       "      <td>907</td>\n",
       "    </tr>\n",
       "  </tbody>\n",
       "</table>\n",
       "</div>"
      ],
      "text/plain": [
       "       cod_i4c  cod_loc  cod_mpio     utam  zat\n",
       "13963      5.0     19.0     11001  UPR0003  764\n",
       "13964      5.0     19.0     11001  UPR0003  764\n",
       "13965      5.0     19.0     11001  UPR0003  764\n",
       "13966      5.0     19.0     11001  UPR0003  764\n",
       "13967      5.0     19.0     11001  UPR0003  764\n",
       "13968      5.0     19.0     11001  UPR0003  764\n",
       "13969      5.0     19.0     11001  UPR0003  764\n",
       "13970      5.0     19.0     11001  UPR0003  764\n",
       "13971      5.0     19.0     11001  UPR0003  764\n",
       "16226      NaN      NaN     25175  UTAM590  907"
      ]
     },
     "execution_count": 11,
     "metadata": {},
     "output_type": "execute_result"
    }
   ],
   "source": [
    "#Localidad \n",
    "\n",
    "#Hay dos columnas que tienen el codigo de localidad, pero no son iguales\n",
    "print(df_A2[\"cod_i4c\"].equals(df_A2[\"cod_loc\"]))\n",
    "desiguales = df_A2[df_A2['cod_i4c'] != df_A2['cod_loc']]\n",
    "p1 = ['cod_i4c', 'cod_loc', 'cod_mpio', 'utam', 'zat']\n",
    "print(desiguales[p1].info())\n",
    "\n"
   ]
  },
  {
   "cell_type": "code",
   "execution_count": null,
   "metadata": {},
   "outputs": [
    {
     "data": {
      "text/plain": [
       "cod_i7\n",
       "99999999    2667\n",
       "2595         391\n",
       "5110         306\n",
       "6217         255\n",
       "5104         216\n",
       "            ... \n",
       "6504           2\n",
       "9110           1\n",
       "2520           1\n",
       "108110         1\n",
       "108108         1\n",
       "Name: count, Length: 649, dtype: int64"
      ]
     },
     "execution_count": 12,
     "metadata": {},
     "output_type": "execute_result"
    }
   ],
   "source": [
    "# Barrio / Vereda\n",
    "print(df_A2[\"cod_i7\"].value_counts())"
   ]
  },
  {
   "cell_type": "code",
   "execution_count": 24,
   "metadata": {},
   "outputs": [
    {
     "name": "stdout",
     "output_type": "stream",
     "text": [
      "i7b\n",
      "1    11349\n",
      "2     8370\n",
      "3      353\n",
      "4       96\n",
      "6        5\n",
      "Name: count, dtype: int64\n"
     ]
    }
   ],
   "source": [
    "# Tipo de vivienda\n",
    "print(df_A2[\"i7b\"].value_counts())"
   ]
  },
  {
   "cell_type": "code",
   "execution_count": 31,
   "metadata": {},
   "outputs": [
    {
     "name": "stdout",
     "output_type": "stream",
     "text": [
      "a6\n",
      "1    16032\n",
      "2     3097\n",
      "3      980\n",
      "4       56\n",
      "5        8\n",
      "Name: count, dtype: int64\n"
     ]
    }
   ],
   "source": [
    "# Numero de Hogares por vivienda\n",
    "print(df_A2[\"a6\"].value_counts())"
   ]
  },
  {
   "cell_type": "code",
   "execution_count": 33,
   "metadata": {},
   "outputs": [
    {
     "name": "stdout",
     "output_type": "stream",
     "text": [
      "a7\n",
      "2     5289\n",
      "3     5102\n",
      "4     3866\n",
      "1     3307\n",
      "5     1660\n",
      "6      571\n",
      "7      241\n",
      "8       81\n",
      "9       33\n",
      "10      22\n",
      "11       1\n",
      "Name: count, dtype: int64\n"
     ]
    },
    {
     "data": {
      "image/png": "[encoded data removed]",
      "text/plain": [
       "<Figure size 640x480 with 1 Axes>"
      ]
     },
     "metadata": {},
     "output_type": "display_data"
    }
   ],
   "source": [
    "# Numero de personas por hogar\n",
    "df_A2[\"a7\"].plot.hist()\n",
    "print(df_A2[\"a7\"].value_counts())"
   ]
  },
  {
   "cell_type": "code",
   "execution_count": 10,
   "metadata": {},
   "outputs": [
    {
     "name": "stdout",
     "output_type": "stream",
     "text": [
      "c1\n",
      "88       9189\n",
      "A        3273\n",
      "M        2280\n",
      "E        1858\n",
      "A M       613\n",
      "         ... \n",
      "M A U       1\n",
      "J A U       1\n",
      "N E         1\n",
      "A I         1\n",
      "B E J       1\n",
      "Name: count, Length: 248, dtype: int64\n",
      "c1a\n",
      "1.0    4610\n",
      "2.0     497\n",
      "3.0      30\n",
      "4.0       7\n",
      "5.0       5\n",
      "Name: count, dtype: int64\n",
      "0   NaN\n",
      "1   NaN\n",
      "2   NaN\n",
      "3   NaN\n",
      "4   NaN\n",
      "Name: c1a, dtype: float64\n"
     ]
    }
   ],
   "source": [
    "#Tipos de veihiculos\n",
    "print(df_A2[\"c1\"].value_counts())\n",
    "\n",
    "#Reclasificacion a mano\n",
    "print(df_A2[\"c1a\"].value_counts())\n",
    "print(df_A2[\"c1a\"].head())\n"
   ]
  }
 ],
 "metadata": {
  "kernelspec": {
   "display_name": "Python 3",
   "language": "python",
   "name": "python3"
  },
  "language_info": {
   "codemirror_mode": {
    "name": "ipython",
    "version": 3
   },
   "file_extension": ".py",
   "mimetype": "text/x-python",
   "name": "python",
   "nbconvert_exporter": "python",
   "pygments_lexer": "ipython3",
   "version": "3.13.2"
  }
 },
 "nbformat": 4,
 "nbformat_minor": 2
}
